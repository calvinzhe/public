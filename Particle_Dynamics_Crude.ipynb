{
 "cells": [
  {
   "cell_type": "markdown",
   "metadata": {},
   "source": [
    "# Particle Dynamics (Crude)"
   ]
  },
  {
   "cell_type": "markdown",
   "metadata": {},
   "source": [
    "This is a crude attempt at plotting the path of a particle under a central force by using Newton's Law and updating the trajectory in iterative steps."
   ]
  },
  {
   "cell_type": "code",
   "execution_count": 6,
   "metadata": {
    "collapsed": false
   },
   "outputs": [
    {
     "data": {
      "text/plain": [
       "[<matplotlib.lines.Line2D at 0x3a329e8>]"
      ]
     },
     "execution_count": 6,
     "metadata": {},
     "output_type": "execute_result"
    },
    {
     "data": {
      "image/png": "[encoded data removed]",
      "text/plain": [
       "<matplotlib.figure.Figure at 0x67dfba8>"
      ]
     },
     "metadata": {},
     "output_type": "display_data"
    }
   ],
   "source": [
    "%reset -f\n",
    "%matplotlib inline\n",
    "from matplotlib import pyplot as plt\n",
    "\n",
    "#Initial Conditions\n",
    "x0 = 2\n",
    "y0 = 0\n",
    "vx0 = 0\n",
    "vy0 = 1\n",
    "\n",
    "#Gravitational Force\n",
    "G = -0.25\n",
    "def aGrav(x,y):\n",
    "    return [G*x/(x**2+y**2)**(3/2), G*y/(x**2+y**2)**(3/2)]\n",
    "\n",
    "#Initial Update\n",
    "x = x0\n",
    "y = y0\n",
    "vx = vx0\n",
    "vy = vy0\n",
    "ax = aGrav(x,y)[0]\n",
    "ay = aGrav(x,y)[1]\n",
    "\n",
    "#Array Declaration\n",
    "xarray = []\n",
    "yarray = []\n",
    "tarray = []\n",
    "\n",
    "#Update Iterations\n",
    "for i in range(2200):\n",
    "    t = i*0.0001\n",
    "    vx = ax*t + vx\n",
    "    x = vx*t + x\n",
    "    vy = ay*t + vy\n",
    "    y = vy*t + y\n",
    "    ax = aGrav(x,y)[0]\n",
    "    ay = aGrav(x,y)[1]\n",
    "    xarray.append(x)\n",
    "    yarray.append(y)\n",
    "    tarray.append(t)\n",
    "\n",
    "#Plotting\n",
    "plt.plot(0,0,'bo')\n",
    "plt.plot(xarray,yarray,'r.')"
   ]
  },
  {
   "cell_type": "code",
   "execution_count": null,
   "metadata": {
    "collapsed": true
   },
   "outputs": [],
   "source": []
  }
 ],
 "metadata": {
  "anaconda-cloud": {},
  "kernelspec": {
   "display_name": "Python [Root]",
   "language": "python",
   "name": "Python [Root]"
  },
  "language_info": {
   "codemirror_mode": {
    "name": "ipython",
    "version": 2
   },
   "file_extension": ".py",
   "mimetype": "text/x-python",
   "name": "python",
   "nbconvert_exporter": "python",
   "pygments_lexer": "ipython2",
   "version": "2.7.12"
  }
 },
 "nbformat": 4,
 "nbformat_minor": 0
}
